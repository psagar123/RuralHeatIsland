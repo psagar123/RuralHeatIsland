{
 "cells": [
  {
   "cell_type": "code",
   "execution_count": null,
   "id": "cd99dad5",
   "metadata": {},
   "outputs": [],
   "source": [
    "# import general packages\n",
    "import xarray as xr\n",
    "import dask\n",
    "import dask.array as da\n",
    "import numpy as np\n",
    "from matplotlib import pyplot as plt\n",
    "from numba import njit, vectorize\n",
    "# import packages needed for obtaining google cloud data\n",
    "import pandas as pd\n",
    "import fsspec"
   ]
  },
  {
   "cell_type": "code",
   "execution_count": null,
   "id": "9ac99878",
   "metadata": {},
   "outputs": [],
   "source": [
    "# import Liljgren functions for calculating cosine zenith angle\n",
    "from coszenith import coszda, cosza\n",
    "# import functions for calculating WBGT\n",
    "from WBGT import WBGT_Liljegren, WBGT_GCM\n",
    "from WBGT import Tg_GCM, Tnwb_GCM"
   ]
  },
  {
   "cell_type": "code",
   "execution_count": null,
   "id": "fddd152d",
   "metadata": {
    "lines_to_next_cell": 2
   },
   "outputs": [],
   "source": [
    "# import other required packages\n",
    "from netCDF4 import Dataset\n",
    "import pandas as pd\n",
    "import numpy as np\n",
    "import netCDF4 as nc\n",
    "from scipy.ndimage import shift"
   ]
  },
  {
   "cell_type": "code",
   "execution_count": null,
   "id": "ea292bcf",
   "metadata": {},
   "outputs": [],
   "source": [
    "# Read NetCDF files for lat and lon\n",
    "lat_dataset = nc.Dataset('/expanse/lustre/projects/sdu137/s1parajuli/wrf_output/apr_oct_20_default/1km_apr_oct_sensor_select_new_irr.nc')\n",
    "long_dataset = nc.Dataset('/expanse/lustre/projects/sdu137/s1parajuli/wrf_output/apr_oct_20_default/1km_apr_oct_sensor_select_new_irr.nc')\n",
    "lat = lat_dataset['XLAT'][:]\n",
    "lon = long_dataset['XLONG'][:]\n",
    "print(lat.shape)\n",
    "print(lon.shape)"
   ]
  },
  {
   "cell_type": "code",
   "execution_count": null,
   "id": "f1a8a851",
   "metadata": {
    "lines_to_next_cell": 1
   },
   "outputs": [],
   "source": [
    "# Define a function to shift the data and match PST local time (-8 hours shift)\n",
    "def shift_to_pst(data_array):\n",
    "    return shift(data_array, shift=(-8, 0, 0), cval=np.nan)"
   ]
  },
  {
   "cell_type": "code",
   "execution_count": null,
   "id": "54faf949",
   "metadata": {},
   "outputs": [],
   "source": [
    "# Load the NetCDF main file\n",
    "dataset_path = '/expanse/lustre/projects/sdu137/s1parajuli/wrf_output/apr_oct_20_default/1km_apr_oct_sensor_select_new_irr.nc'\n",
    "ds = xr.open_dataset(dataset_path)"
   ]
  },
  {
   "cell_type": "code",
   "execution_count": null,
   "id": "e237a6f3",
   "metadata": {},
   "outputs": [],
   "source": [
    "coszen_20_aug_sensor = shift_to_pst(ds['coszen'].values)\n",
    "swdown_20_aug_sensor = shift_to_pst(ds['swdown'].values)\n",
    "glw_20_aug_sensor = shift_to_pst(ds['glw'].values)\n",
    "swddir_20_aug_sensor = shift_to_pst(ds['swddir'].values)\n",
    "swupb_20_aug_sensor = shift_to_pst(ds['swupb'].values)\n",
    "lwupb_20_aug_sensor = shift_to_pst(ds['lwupb'].values)\n",
    "T2_20_aug_sensor = shift_to_pst(ds['t2'].values)\n",
    "u_20_aug_sensor = shift_to_pst(ds['u10'].values)\n",
    "v_20_aug_sensor = shift_to_pst(ds['v10'].values)\n",
    "psfc_20_aug_sensor = shift_to_pst(ds['psfc'].values)"
   ]
  },
  {
   "cell_type": "code",
   "execution_count": null,
   "id": "e00ed69b",
   "metadata": {},
   "outputs": [],
   "source": [
    "ds.close()"
   ]
  },
  {
   "cell_type": "code",
   "execution_count": null,
   "id": "1b038c90",
   "metadata": {},
   "outputs": [],
   "source": [
    "# Load relative humidity and dew point temperature data from second netcdf file\n",
    "rh_td_dataset_path = '/expanse/lustre/projects/sdu137/s1parajuli/wrf_output/apr_oct_20_default/1km_apr_oct_sensor_select_new_rh2m_irr.nc'\n",
    "rh_td_ds = xr.open_dataset(rh_td_dataset_path)"
   ]
  },
  {
   "cell_type": "code",
   "execution_count": null,
   "id": "7f91f490",
   "metadata": {},
   "outputs": [],
   "source": [
    "rh_20_aug_sensor = shift_to_pst(rh_td_ds['rh2m'].values)\n",
    "rh_td_ds.close()"
   ]
  },
  {
   "cell_type": "code",
   "execution_count": null,
   "id": "562368ea",
   "metadata": {},
   "outputs": [],
   "source": [
    "rh_20_aug_sensor = np.clip(rh_20_aug_sensor, 0, 100)"
   ]
  },
  {
   "cell_type": "code",
   "execution_count": null,
   "id": "6d3d15de",
   "metadata": {},
   "outputs": [],
   "source": [
    "# Calculate wind speed magnitude\n",
    "ws_20_aug_sensor = np.sqrt(u_20_aug_sensor**2 + v_20_aug_sensor**2); del u_20_aug_sensor, v_20_aug_sensor;"
   ]
  },
  {
   "cell_type": "code",
   "execution_count": null,
   "id": "be4a78b5",
   "metadata": {
    "lines_to_next_cell": 2
   },
   "outputs": [],
   "source": [
    "print(ws_20_aug_sensor.shape)"
   ]
  },
  {
   "cell_type": "markdown",
   "id": "70ee0f8b",
   "metadata": {},
   "source": [
    "import required Liljegren's functions"
   ]
  },
  {
   "cell_type": "code",
   "execution_count": null,
   "id": "b6bb500d",
   "metadata": {},
   "outputs": [],
   "source": [
    "from WBGT import Tg_Liljegren, Tnwb_Liljegren\n",
    "import thermofeel; "
   ]
  },
  {
   "cell_type": "code",
   "execution_count": null,
   "id": "4ea71377",
   "metadata": {
    "lines_to_next_cell": 2
   },
   "outputs": [],
   "source": [
    "coszen_20_aug_sensor[coszen_20_aug_sensor <= 0] = -0.5; "
   ]
  },
  {
   "cell_type": "code",
   "execution_count": null,
   "id": "720c4fef",
   "metadata": {
    "lines_to_next_cell": 2
   },
   "outputs": [],
   "source": [
    "psfc = psfc_20_aug_sensor; \n",
    "czda = coszen_20_aug_sensor; # try using this first directly. If it doesn't work, calculate czda as done by Kong \n",
    "va = ws_20_aug_sensor;\n",
    "rh = rh_20_aug_sensor; \n",
    "t2_k = T2_20_aug_sensor;"
   ]
  },
  {
   "cell_type": "code",
   "execution_count": null,
   "id": "b8fa6db2",
   "metadata": {},
   "outputs": [],
   "source": [
    "swdnb = swdown_20_aug_sensor;\n",
    "swupb = swupb_20_aug_sensor; \n",
    "lwdnb = glw_20_aug_sensor; \n",
    "lwupb = lwupb_20_aug_sensor; "
   ]
  },
  {
   "cell_type": "code",
   "execution_count": null,
   "id": "1a389e4e",
   "metadata": {},
   "outputs": [],
   "source": [
    "f = swddir_20_aug_sensor/swdown_20_aug_sensor; # the ratio of the direct horizontal solar irradiance to the total horizontal solar irradiance, fdir"
   ]
  },
  {
   "cell_type": "code",
   "execution_count": null,
   "id": "b46725ff",
   "metadata": {},
   "outputs": [],
   "source": [
    "f = np.where(coszen_20_aug_sensor <= np.cos(89.5 / 180 * np.pi), 0, f)\n",
    "f = np.where(f > 0.9, 0.9, f)\n",
    "f = np.where(f < 0, 0, f)\n",
    "f = np.where(swdown_20_aug_sensor <= 0, 0, f)"
   ]
  },
  {
   "cell_type": "code",
   "execution_count": null,
   "id": "f257b3d7",
   "metadata": {
    "lines_to_next_cell": 2
   },
   "outputs": [],
   "source": [
    "print(np.nanmin(f.flatten()))\n",
    "print(np.nanmax(f.flatten()))"
   ]
  },
  {
   "cell_type": "code",
   "execution_count": null,
   "id": "0c8a8bd3",
   "metadata": {},
   "outputs": [],
   "source": [
    "# calculate Liljegren WBGT with full treatment of radiations\n",
    "wbgt_gcm_k=xr.apply_ufunc(WBGT_GCM, t2_k, rh, psfc, va, swdnb, swupb, lwdnb, lwupb, f, czda, False, output_dtypes=[float])"
   ]
  },
  {
   "cell_type": "code",
   "execution_count": null,
   "id": "51121a0b",
   "metadata": {},
   "outputs": [],
   "source": [
    "import thermofeel\n",
    "from thermofeel import kelvin_to_fahrenheit; \n",
    "wbgt_f = kelvin_to_fahrenheit(wbgt_gcm_k);\n",
    "wbgt_f[wbgt_f < 0] = np.nan;\n",
    "print('min wbgt_f', np.nanmin(wbgt_f.flatten()))\n",
    "print('max wbgt_f', np.nanmax(wbgt_f.flatten()))"
   ]
  },
  {
   "cell_type": "code",
   "execution_count": null,
   "id": "d20442f6",
   "metadata": {
    "lines_to_next_cell": 2
   },
   "outputs": [],
   "source": [
    "t2_f = kelvin_to_fahrenheit(t2_k);"
   ]
  },
  {
   "cell_type": "code",
   "execution_count": null,
   "id": "5ac569c9",
   "metadata": {},
   "outputs": [],
   "source": [
    "import geopandas as gpd\n",
    "import matplotlib.pyplot as plt\n",
    "import cartopy.crs as ccrs\n",
    "from matplotlib.ticker import MultipleLocator"
   ]
  },
  {
   "cell_type": "code",
   "execution_count": null,
   "id": "325225ef",
   "metadata": {
    "lines_to_next_cell": 2
   },
   "outputs": [],
   "source": [
    "# Load the county and lake shapefiles\n",
    "counties = gpd.read_file(\"ne_10m_admin_1_states_provinces/ne_10m_admin_1_states_provinces.shp\")\n",
    "salton = gpd.read_file(\"Salton_geog/Salton_geog.shp\")"
   ]
  },
  {
   "cell_type": "markdown",
   "id": "86e8b1f2",
   "metadata": {},
   "source": [
    "Calculate Heat Index"
   ]
  },
  {
   "cell_type": "markdown",
   "id": "d486b2ff",
   "metadata": {},
   "source": [
    "extract t2 and rh to calculate HI for IV"
   ]
  },
  {
   "cell_type": "code",
   "execution_count": null,
   "id": "bbff772c",
   "metadata": {},
   "outputs": [],
   "source": [
    "t2_f_iv = t2_f[:, 20:70, 106:140]"
   ]
  },
  {
   "cell_type": "code",
   "execution_count": null,
   "id": "f26c1ab8",
   "metadata": {
    "lines_to_next_cell": 2
   },
   "outputs": [],
   "source": [
    "rh_pct = rh_20_aug_sensor;\n",
    "rh_pct_iv = rh_pct[:, 20:70, 106:140];"
   ]
  },
  {
   "cell_type": "markdown",
   "id": "6bbf31dd",
   "metadata": {},
   "source": [
    "calculate HI using metpy, using the NWS HI equation https://www.wpc.ncep.noaa.gov/html/heatindex_equation.shtml"
   ]
  },
  {
   "cell_type": "markdown",
   "id": "806a2470",
   "metadata": {},
   "source": [
    "MetPy: https://unidata.github.io/MetPy/latest/api/generated/metpy.calc.heat_index.html"
   ]
  },
  {
   "cell_type": "code",
   "execution_count": null,
   "id": "e5ef3a11",
   "metadata": {},
   "outputs": [],
   "source": [
    "from metpy.calc import heat_index\n",
    "from metpy.units import units"
   ]
  },
  {
   "cell_type": "code",
   "execution_count": null,
   "id": "e5068d90",
   "metadata": {},
   "outputs": [],
   "source": []
  },
  {
   "cell_type": "markdown",
   "id": "4a392da9",
   "metadata": {},
   "source": [
    "extract data corresponding to workshifts for DBT, WBGT, and HI"
   ]
  },
  {
   "cell_type": "code",
   "execution_count": null,
   "id": "1e46a1b7",
   "metadata": {},
   "outputs": [],
   "source": [
    "# first DBT\n",
    "t2_f_diurnal = np.reshape(t2_f, (24, 214, 171, 162), order='F');\n",
    "t2_f_day = t2_f_diurnal[6:14, :, :, :]; # 6am to 2pm"
   ]
  },
  {
   "cell_type": "code",
   "execution_count": null,
   "id": "eeee7506",
   "metadata": {
    "lines_to_next_cell": 2
   },
   "outputs": [],
   "source": [
    "# second WBGT\n",
    "wbgt_f_diurnal = np.reshape(wbgt_f, (24, 214, 171, 162), order='F');\n",
    "wbgt_f_day = wbgt_f_diurnal[6:14, :, :, :];"
   ]
  },
  {
   "cell_type": "markdown",
   "id": "f04a04c5",
   "metadata": {},
   "source": [
    "Calculate Heat Index"
   ]
  },
  {
   "cell_type": "markdown",
   "id": "e5d8081b",
   "metadata": {},
   "source": [
    "calculate HI using metpy, using the NWS HI equation https://www.wpc.ncep.noaa.gov/html/heatindex_equation.shtml"
   ]
  },
  {
   "cell_type": "markdown",
   "id": "1be0bc2e",
   "metadata": {
    "lines_to_next_cell": 2
   },
   "source": [
    "MetPy: https://unidata.github.io/MetPy/latest/api/generated/metpy.calc.heat_index.html"
   ]
  },
  {
   "cell_type": "code",
   "execution_count": null,
   "id": "94c9c0ad",
   "metadata": {
    "lines_to_next_cell": 2
   },
   "outputs": [],
   "source": [
    "# third HI\n",
    "HI_f_all = heat_index(t2_f*units.degF, rh_pct*units.percent) # heat index in F entire domain\n",
    "HI_f_all_diurnal = np.reshape(HI_f_all.magnitude, (24, 214, 171, 162), order='F');\n",
    "HI_f_all_day = HI_f_all_diurnal[6:14, :, :, :];"
   ]
  },
  {
   "cell_type": "markdown",
   "id": "6d46f32f",
   "metadata": {},
   "source": [
    "calculate for IV region"
   ]
  },
  {
   "cell_type": "code",
   "execution_count": null,
   "id": "b5b5bcde",
   "metadata": {},
   "outputs": [],
   "source": [
    "t2_f_iv = t2_f[:, 20:70, 106:140]\n",
    "t2_f_iv_diurnal = np.reshape(t2_f_iv, (24, 214, 50, 34), order='F');\n",
    "t2_f_iv_day = t2_f_iv_diurnal[6:14, :, :, :];"
   ]
  },
  {
   "cell_type": "code",
   "execution_count": null,
   "id": "161fdb46",
   "metadata": {
    "lines_to_next_cell": 2
   },
   "outputs": [],
   "source": [
    "rh_pct_iv = rh_pct[:, 20:70, 106:140];"
   ]
  },
  {
   "cell_type": "code",
   "execution_count": null,
   "id": "0aa910d7",
   "metadata": {
    "lines_to_next_cell": 2
   },
   "outputs": [],
   "source": [
    "HI_f_iv = heat_index(t2_f_iv*units.degF, rh_pct_iv*units.percent) # heat index in F\n",
    "# HI_f_iv.magnitude[HI_f_iv.magnitude < 20] = np.nan"
   ]
  },
  {
   "cell_type": "code",
   "execution_count": null,
   "id": "dc71583d",
   "metadata": {},
   "outputs": [],
   "source": [
    "print('HI IV min:', np.nanmin(HI_f_iv.magnitude.flatten()))\n",
    "print('HI IV max:', np.nanmax(HI_f_iv.magnitude.flatten()))"
   ]
  },
  {
   "cell_type": "markdown",
   "id": "e3cea499",
   "metadata": {},
   "source": [
    "HI_f_iv_clean = HI_f_iv.magnitude[np.isfinite(HI_f_iv.magnitude)]"
   ]
  },
  {
   "cell_type": "code",
   "execution_count": null,
   "id": "b1d3f5d8",
   "metadata": {},
   "outputs": [],
   "source": []
  },
  {
   "cell_type": "code",
   "execution_count": null,
   "id": "2325523f",
   "metadata": {},
   "outputs": [],
   "source": [
    "HI_f_iv_diurnal = np.reshape(HI_f_iv.magnitude, (24, 214, 50, 34), order='F');\n",
    "HI_f_iv_day = HI_f_iv_diurnal[6:14, :, :, :];"
   ]
  },
  {
   "cell_type": "code",
   "execution_count": null,
   "id": "d25518fa",
   "metadata": {
    "lines_to_next_cell": 2
   },
   "outputs": [],
   "source": [
    "# extract wbgt_f for IV\n",
    "wbgt_f_iv = wbgt_f[:, 20:70, 106:140];\n",
    "wbgt_f_iv_diurnal = np.reshape(wbgt_f_iv, (24, 214, 50, 34), order='F');\n",
    "wbgt_f_iv_day = wbgt_f_iv_diurnal[6:14, :, :, :]; del wbgt_f_iv_diurnal;"
   ]
  },
  {
   "cell_type": "code",
   "execution_count": null,
   "id": "2cec12ed",
   "metadata": {},
   "outputs": [],
   "source": [
    "# extract wbgt_f for IV\n",
    "wbgt_f_iv = wbgt_f[:, 20:70, 106:140];"
   ]
  },
  {
   "cell_type": "code",
   "execution_count": null,
   "id": "58155257",
   "metadata": {},
   "outputs": [],
   "source": [
    "# review the data range\n",
    "print('wbgt_min', np.nanmin(wbgt_f_iv.flatten()))\n",
    "print('wbgt_max', np.nanmax(wbgt_f_iv.flatten()))"
   ]
  },
  {
   "cell_type": "code",
   "execution_count": null,
   "id": "4eded2ca",
   "metadata": {},
   "outputs": [],
   "source": [
    "print('t2_min', np.nanmin(t2_f_iv.flatten()))\n",
    "print('t2_max', np.nanmax(t2_f_iv.flatten()))"
   ]
  },
  {
   "cell_type": "code",
   "execution_count": null,
   "id": "5deee457",
   "metadata": {},
   "outputs": [],
   "source": [
    "print('HI min', np.nanmin(HI_f_iv.magnitude.flatten()))\n",
    "print('HI max', np.nanmax(HI_f_iv.magnitude.flatten()))"
   ]
  },
  {
   "cell_type": "code",
   "execution_count": null,
   "id": "f9ead2ad",
   "metadata": {
    "lines_to_next_cell": 2
   },
   "outputs": [],
   "source": [
    "print(wbgt_f_iv.shape)"
   ]
  },
  {
   "cell_type": "markdown",
   "id": "59c3f438",
   "metadata": {},
   "source": [
    "plot histograms for data for data within IV bounding box for all data as well as work shift data"
   ]
  },
  {
   "cell_type": "code",
   "execution_count": null,
   "id": "a73f1749",
   "metadata": {},
   "outputs": [],
   "source": [
    "import matplotlib.pyplot as plt"
   ]
  },
  {
   "cell_type": "code",
   "execution_count": null,
   "id": "6d339ccf",
   "metadata": {},
   "outputs": [],
   "source": [
    "fig, axes = plt.subplots(2, 3, figsize=(14, 7))\n",
    "plt.subplots_adjust(wspace=0.3, hspace=0.42)  # Adjust the width space between subplots"
   ]
  },
  {
   "cell_type": "code",
   "execution_count": null,
   "id": "59f8a76e",
   "metadata": {},
   "outputs": [],
   "source": [
    "common_range = (20, 125)"
   ]
  },
  {
   "cell_type": "code",
   "execution_count": null,
   "id": "301d3749",
   "metadata": {},
   "outputs": [],
   "source": [
    "axes[0,0].hist(wbgt_f_iv.flatten(), bins=20, histtype='step', linewidth=1.5, color='grey')\n",
    "axes[0,0].set_title(r'$WBGT_{\\mathrm{all\\_hours}}$', fontsize=12)\n",
    "axes[0,0].set_ylim(0, 1.5E6)\n",
    "axes[0,0].set_xlabel('(\\u00b0F)', fontsize=12)\n",
    "axes[0,0].axvspan(80, 85, color='#ffff00')\n",
    "axes[0,0].axvspan(85, 88, color='#ff9900')\n",
    "axes[0,0].axvspan(88, 90, color='#ff0000')\n",
    "axes[0,0].axvspan(90, 140.00, color='#ff00ff')\n",
    "axes[0,0].set_xlim(20, 125)"
   ]
  },
  {
   "cell_type": "code",
   "execution_count": null,
   "id": "cbcc2372",
   "metadata": {
    "lines_to_next_cell": 2
   },
   "outputs": [],
   "source": [
    "# Correct the axis indexing\n",
    "axes[0,1].hist(t2_f_iv.flatten(), bins=20, histtype='step', linewidth=1.5, color='grey')\n",
    "axes[0,1].set_title(r'$DBT_{\\mathrm{all\\_hours}}$', fontsize=12)\n",
    "axes[0,1].set_ylim(0, 1.5E6)\n",
    "axes[0,1].set_xlabel('(\\u00b0F)', fontsize=12)\n",
    "axes[0,1].axvline(x=95, color='yellow', linestyle='-', linewidth=1.5)\n",
    "axes[0,1].axvspan(95, 140.00, color='#ffff00')\n",
    "axes[0,1].set_xlim(20, 125)"
   ]
  },
  {
   "cell_type": "code",
   "execution_count": null,
   "id": "b0bba77f",
   "metadata": {
    "lines_to_next_cell": 2
   },
   "outputs": [],
   "source": [
    "axes[0,2].hist(HI_f_iv.flatten(), bins=20, histtype='step', linewidth=1.5, color='grey')\n",
    "axes[0,2].set_title(r'$HI_{\\mathrm{all\\_hours}}$', fontsize=12)\n",
    "axes[0,2].set_ylim(0, 1.5E6)\n",
    "axes[0,2].set_xlabel('(\\u00b0F)', fontsize=12)\n",
    "axes[0,2].axvline(x=80, color='yellow', linestyle='-', linewidth=1.5)\n",
    "axes[0,2].axvspan(80, 140.00, color='#ffff00')\n",
    "axes[0,2].set_xlim(20, 125)"
   ]
  },
  {
   "cell_type": "code",
   "execution_count": null,
   "id": "4c7994a3",
   "metadata": {},
   "outputs": [],
   "source": [
    "# First subplot\n",
    "axes[1,0].hist(wbgt_f_iv_day.flatten(), bins=20, histtype='step', linewidth=1.5, color='grey')\n",
    "axes[1,0].set_title(r'$WBGT_{\\mathrm{work\\_hours}}$', fontsize=12)\n",
    "axes[1,0].set_ylim(0, 1.5E6)\n",
    "axes[1,0].set_xlabel('(\\u00b0F)', fontsize=12)\n",
    "axes[1,0].axvspan(80, 85, color='#ffff00')\n",
    "axes[1,0].axvspan(85, 88, color='#ff9900')\n",
    "axes[1,0].axvspan(88, 90, color='#ff0000')\n",
    "axes[1,0].axvspan(90, 140.00, color='#ff00ff')\n",
    "axes[1,0].set_xlim(20, 125)"
   ]
  },
  {
   "cell_type": "code",
   "execution_count": null,
   "id": "2dd52547",
   "metadata": {},
   "outputs": [],
   "source": [
    "# Second subplot\n",
    "axes[1,1].hist(t2_f_iv_day.flatten(), bins=20, histtype='step', linewidth=1.5, color='grey')\n",
    "axes[1,1].set_title(r'$DBT_{\\mathrm{work\\_hours}}$', fontsize=12)\n",
    "axes[1,1].set_ylim(0, 1.5E6)\n",
    "axes[1,1].set_xlabel('(\\u00b0F)', fontsize=12)\n",
    "axes[1,1].axvline(x=95, color='yellow', linestyle='-', linewidth=1.5)\n",
    "axes[1,1].axvspan(95, 140.00, color='#ffff00')\n",
    "axes[1,1].set_xlim(20, 125)"
   ]
  },
  {
   "cell_type": "code",
   "execution_count": null,
   "id": "df60e258",
   "metadata": {},
   "outputs": [],
   "source": [
    "# Third subplot\n",
    "axes[1,2].hist(HI_f_iv_day.flatten(), bins=20, histtype='step', linewidth=1.5, color='grey')\n",
    "axes[1,2].set_title(r'$HI_{\\mathrm{work\\_hours}}$', fontsize=12)\n",
    "axes[1,2].set_ylim(0, 1.5E6)\n",
    "axes[1,2].set_xlabel('(\\u00b0F)', fontsize=12)\n",
    "axes[1,2].axvline(x=80, color='yellow', linestyle='-', linewidth=1.5)\n",
    "axes[1,2].axvspan(80, 140.00, color='#ffff00')\n",
    "axes[1,2].set_xlim(20, 125)"
   ]
  },
  {
   "cell_type": "code",
   "execution_count": null,
   "id": "35cd10f9",
   "metadata": {},
   "outputs": [],
   "source": []
  },
  {
   "cell_type": "code",
   "execution_count": null,
   "id": "25a04b2c",
   "metadata": {
    "lines_to_next_cell": 2
   },
   "outputs": [],
   "source": [
    "plt.savefig('histogram_hi_dbt_wbgt.png', bbox_inches='tight', dpi=400)"
   ]
  },
  {
   "cell_type": "markdown",
   "id": "d7f92af3",
   "metadata": {},
   "source": [
    "calculate exceedance grid point hours per day for time series plot"
   ]
  },
  {
   "cell_type": "code",
   "execution_count": null,
   "id": "0d85d1a4",
   "metadata": {},
   "outputs": [],
   "source": [
    "import numpy as np"
   ]
  },
  {
   "cell_type": "code",
   "execution_count": null,
   "id": "63ccd808",
   "metadata": {},
   "outputs": [],
   "source": [
    "wbgt_f_iv_diurnal = np.reshape(wbgt_f_iv, (24, 214, 50, 34), order='F');\n",
    "gt_80_wbgt_iv_all = np.sum(wbgt_f_iv_diurnal > 80, axis=(0, 2, 3))"
   ]
  },
  {
   "cell_type": "code",
   "execution_count": null,
   "id": "19bc724c",
   "metadata": {},
   "outputs": [],
   "source": [
    "HI_f_iv_diurnal = np.reshape(HI_f_iv.magnitude, (24, 214, 50, 34), order='F');\n",
    "gt_80_HI_iv_all = np.sum(HI_f_iv_diurnal > 80, axis=(0, 2, 3))"
   ]
  },
  {
   "cell_type": "code",
   "execution_count": null,
   "id": "98ab164d",
   "metadata": {},
   "outputs": [],
   "source": [
    "t2_f_iv_diurnal = np.reshape(t2_f_iv, (24, 214, 50, 34), order='F');\n",
    "gt_95_t2_iv_all = np.sum(t2_f_iv_diurnal > 95, axis=(0, 2, 3))"
   ]
  },
  {
   "cell_type": "code",
   "execution_count": null,
   "id": "3e12dc85",
   "metadata": {},
   "outputs": [],
   "source": []
  },
  {
   "cell_type": "markdown",
   "id": "59a4e9fb",
   "metadata": {},
   "source": [
    "Calculate number of hours exceeding a given threshold using all data\n",
    "note only along time dimension calculations are done"
   ]
  },
  {
   "cell_type": "code",
   "execution_count": null,
   "id": "2c187263",
   "metadata": {
    "lines_to_next_cell": 2
   },
   "outputs": [],
   "source": [
    "# using WBGT\n",
    "non_nan_counts_wbgt = np.sum(~np.isnan(wbgt_f), axis=0)"
   ]
  },
  {
   "cell_type": "code",
   "execution_count": null,
   "id": "da98713b",
   "metadata": {},
   "outputs": [],
   "source": [
    "#yellow\n",
    "wbgt_f_hour_exceed_yellow = np.sum((wbgt_f >= 80) & (wbgt_f < 85), axis=0);\n",
    "wbgt_f_hour_exceed_yellow_restm_perhour = wbgt_f_hour_exceed_yellow*15/non_nan_counts_wbgt  # 15 minutes every hour\n",
    "#orange\n",
    "wbgt_f_hour_exceed_orange = np.sum((wbgt_f >= 85) & (wbgt_f < 88), axis=0)\n",
    "wbgt_f_hour_exceed_orange_restm_perhour = wbgt_f_hour_exceed_orange*30/non_nan_counts_wbgt  # 30 minutes every hour\n",
    "#red\n",
    "wbgt_f_hour_exceed_red = np.sum((wbgt_f >= 88) & (wbgt_f < 90), axis=0)\n",
    "wbgt_f_hour_exceed_red_restm_perhour = wbgt_f_hour_exceed_red*40/non_nan_counts_wbgt  # 40 minutes every hour\n",
    "#pink\n",
    "wbgt_f_hour_exceed_pink = np.sum(wbgt_f >= 90, axis=0); del wbgt_f;\n",
    "wbgt_f_hour_exceed_pink_restm_perhour = wbgt_f_hour_exceed_pink*45/non_nan_counts_wbgt  # 45 minutes every hour"
   ]
  },
  {
   "cell_type": "code",
   "execution_count": null,
   "id": "7d94011b",
   "metadata": {},
   "outputs": [],
   "source": [
    "# total rest minutes from all above to be plotted\n",
    "wbgt_f_hour_exceed_total_restm_perhour = wbgt_f_hour_exceed_yellow_restm_perhour + wbgt_f_hour_exceed_orange_restm_perhour + wbgt_f_hour_exceed_red_restm_perhour + wbgt_f_hour_exceed_pink_restm_perhour;"
   ]
  },
  {
   "cell_type": "code",
   "execution_count": null,
   "id": "03d8e913",
   "metadata": {},
   "outputs": [],
   "source": [
    "# using DBT\n",
    "non_nan_counts_t2 = np.sum(~np.isnan(t2_f), axis=0)\n",
    "t2_f_hour_exceed_95 = np.sum(t2_f > 95, axis=0); del t2_f;\n",
    "t2_f_hour_exceed_95_restm_perhour = t2_f_hour_exceed_95*5/non_nan_counts_t2  # 5 minutes every hour"
   ]
  },
  {
   "cell_type": "code",
   "execution_count": null,
   "id": "742fd64e",
   "metadata": {
    "lines_to_next_cell": 2
   },
   "outputs": [],
   "source": [
    "# using HI\n",
    "non_nan_counts_HI = np.sum(~np.isnan(HI_f_all.magnitude), axis=0)\n",
    "HI_f_hour_exceed_80 = np.sum(HI_f_all.magnitude > 80, axis=0); del HI_f_all;\n",
    "HI_f_hour_exceed_80_restm_perhour = HI_f_hour_exceed_80*7.5/non_nan_counts_HI  # 7.5 minutes every hour"
   ]
  },
  {
   "cell_type": "code",
   "execution_count": null,
   "id": "9b2cce3f",
   "metadata": {
    "lines_to_next_cell": 2
   },
   "outputs": [],
   "source": [
    "# average time-series over the IV region\n",
    "t2_f_iv_av = np.nanmean(np.nanmean(t2_f_iv, axis=2), axis=1)\n",
    "wbgt_f_iv_av = np.nanmean(np.nanmean(wbgt_f_iv, axis=2), axis=1)\n",
    "HI_f_iv_av = np.nanmean(np.nanmean(HI_f_iv.magnitude, axis=2), axis=1)"
   ]
  },
  {
   "cell_type": "markdown",
   "id": "e4ad6f6a",
   "metadata": {
    "lines_to_next_cell": 2
   },
   "source": [
    "calculate exceedance percentages for WBGT, HI, and DBT for IV data all hours"
   ]
  },
  {
   "cell_type": "code",
   "execution_count": null,
   "id": "132abda3",
   "metadata": {},
   "outputs": [],
   "source": [
    "# WBGT\n",
    "#yellow\n",
    "gt_yellow_wbgt_all = np.sum((wbgt_f_iv.flatten() >= 80) & (wbgt_f_iv.flatten() < 85))\n",
    "total_wbgt_all = np.count_nonzero(~np.isnan(wbgt_f_iv.flatten()))\n",
    "percentage_wbgt_all_yellow = (gt_yellow_wbgt_all / total_wbgt_all) * 100 # percentage samples gt 80\n",
    "#orange\n",
    "gt_orange_wbgt_all = np.sum((wbgt_f_iv.flatten() >= 85) & (wbgt_f_iv.flatten() < 88))\n",
    "percentage_wbgt_all_orange = (gt_orange_wbgt_all / total_wbgt_all) * 100 # percentage\n",
    "#red\n",
    "gt_red_wbgt_all = np.sum((wbgt_f_iv.flatten() >= 88) & (wbgt_f_iv.flatten() < 90))\n",
    "percentage_wbgt_all_red = (gt_red_wbgt_all / total_wbgt_all) * 100 # percentage\n",
    "# pink\n",
    "gt_pink_wbgt_all = np.sum(wbgt_f_iv.flatten() >= 90)\n",
    "percentage_wbgt_all_pink = (gt_pink_wbgt_all / total_wbgt_all) * 100 # percentage samples gt 80"
   ]
  },
  {
   "cell_type": "code",
   "execution_count": null,
   "id": "9e901214",
   "metadata": {},
   "outputs": [],
   "source": [
    "percentage_wbgt_all = (percentage_wbgt_all_yellow + percentage_wbgt_all_orange + percentage_wbgt_all_red + percentage_wbgt_all_pink);"
   ]
  },
  {
   "cell_type": "code",
   "execution_count": null,
   "id": "e562f691",
   "metadata": {},
   "outputs": [],
   "source": [
    "# DBT\n",
    "gt_95_t2_all = np.sum(t2_f_iv.flatten() > 95)\n",
    "total_t2_all = np.count_nonzero(~np.isnan(t2_f_iv.flatten()))\n",
    "percentage_t2_all = (gt_95_t2_all / total_t2_all) * 100"
   ]
  },
  {
   "cell_type": "markdown",
   "id": "43059b68",
   "metadata": {},
   "source": [
    "HI"
   ]
  },
  {
   "cell_type": "code",
   "execution_count": null,
   "id": "3b88db14",
   "metadata": {},
   "outputs": [],
   "source": [
    "gt_80_HI_all = np.sum(HI_f_iv.magnitude.flatten() > 80)\n",
    "total_HI_all = np.count_nonzero(~np.isnan(HI_f_iv.magnitude.flatten()))\n",
    "percentage_HI_all = (gt_80_HI_all / total_HI_all) * 100"
   ]
  },
  {
   "cell_type": "code",
   "execution_count": null,
   "id": "694a86d2",
   "metadata": {},
   "outputs": [],
   "source": [
    "print('% WBGT exceedance IV all hours', percentage_wbgt_all_yellow)\n",
    "print('% WBGT exceedance IV all hours', percentage_wbgt_all_orange)\n",
    "print('% WBGT exceedance IV all hours', percentage_wbgt_all_red)\n",
    "print('% WBGT exceedance IV all hours', percentage_wbgt_all_pink)\n",
    "print('% WBGT exceedance total WBGT IV all hours', percentage_wbgt_all)"
   ]
  },
  {
   "cell_type": "code",
   "execution_count": null,
   "id": "a4015727",
   "metadata": {
    "lines_to_next_cell": 2
   },
   "outputs": [],
   "source": [
    "print('% DBT exceedance IV all hours', percentage_t2_all)\n",
    "print('% HI exceedance IV all hours', percentage_HI_all)"
   ]
  },
  {
   "cell_type": "markdown",
   "id": "4511881a",
   "metadata": {},
   "source": [
    "calculate exceedance percentages for WBGT, HI, and DBT for IV data day only"
   ]
  },
  {
   "cell_type": "code",
   "execution_count": null,
   "id": "0c3c6534",
   "metadata": {},
   "outputs": [],
   "source": [
    "import numpy as np"
   ]
  },
  {
   "cell_type": "code",
   "execution_count": null,
   "id": "3c3ca623",
   "metadata": {},
   "outputs": [],
   "source": [
    "# WBGT\n",
    "#yellow\n",
    "gt_yellow_wbgt = np.sum((wbgt_f_iv_day.flatten() >= 80) & (wbgt_f_iv_day.flatten() < 85))\n",
    "total_wbgt = np.count_nonzero(~np.isnan(wbgt_f_iv_day.flatten()))\n",
    "percentage_wbgt_yellow = (gt_yellow_wbgt / total_wbgt) * 100 # percentage samples gt 80\n",
    "#orange\n",
    "gt_orange_wbgt = np.sum((wbgt_f_iv_day.flatten() >= 85) & (wbgt_f_iv_day.flatten() < 88))\n",
    "percentage_wbgt_orange = (gt_orange_wbgt / total_wbgt) * 100 # percentage\n",
    "#red\n",
    "gt_red_wbgt = np.sum((wbgt_f_iv_day.flatten() >= 88) & (wbgt_f_iv_day.flatten() < 90))\n",
    "percentage_wbgt_red = (gt_red_wbgt / total_wbgt) * 100 # percentage\n",
    "# pink\n",
    "gt_pink_wbgt = np.sum(wbgt_f_iv_day.flatten() >= 90)\n",
    "percentage_wbgt_pink = (gt_pink_wbgt / total_wbgt) * 100 # percentage samples gt 80"
   ]
  },
  {
   "cell_type": "code",
   "execution_count": null,
   "id": "25ffb9f2",
   "metadata": {},
   "outputs": [],
   "source": [
    "percentage_wbgt = (percentage_wbgt_yellow + percentage_wbgt_orange + percentage_wbgt_red + percentage_wbgt_pink);"
   ]
  },
  {
   "cell_type": "code",
   "execution_count": null,
   "id": "e62c86c6",
   "metadata": {},
   "outputs": [],
   "source": [
    "# DBT\n",
    "gt_95_t2 = np.sum(t2_f_iv_day.flatten() > 95)\n",
    "total_t2 = np.count_nonzero(~np.isnan(t2_f_iv_day.flatten()))\n",
    "percentage_t2 = (gt_95_t2 / total_t2) * 100"
   ]
  },
  {
   "cell_type": "code",
   "execution_count": null,
   "id": "12005a2f",
   "metadata": {},
   "outputs": [],
   "source": [
    "# HI\n",
    "gt_80_HI = np.sum(HI_f_iv_day.flatten() > 80)\n",
    "total_HI = np.count_nonzero(~np.isnan(HI_f_iv_day.flatten()))\n",
    "percentage_HI = (gt_80_HI / total_HI) * 100"
   ]
  },
  {
   "cell_type": "code",
   "execution_count": null,
   "id": "ba990e2b",
   "metadata": {},
   "outputs": [],
   "source": [
    "print('% WBGT exceedance IV 6am-2pm', percentage_wbgt_yellow)\n",
    "print('% WBGT exceedance IV 6am-2pm', percentage_wbgt_orange)\n",
    "print('% WBGT exceedance IV 6am-2pm', percentage_wbgt_red)\n",
    "print('% WBGT exceedance IV 6am-2pm', percentage_wbgt_pink)\n",
    "print('% WBGT exceedance total WBGT IV 6am-2pm', percentage_wbgt)"
   ]
  },
  {
   "cell_type": "code",
   "execution_count": null,
   "id": "b3511e43",
   "metadata": {},
   "outputs": [],
   "source": [
    "print('% DBT exceedance IV 6am-2pm', percentage_t2)\n",
    "print('% HI exceedance IV 6am-2pm', percentage_HI)"
   ]
  },
  {
   "cell_type": "code",
   "execution_count": null,
   "id": "ff17d4af",
   "metadata": {},
   "outputs": [],
   "source": []
  },
  {
   "cell_type": "code",
   "execution_count": null,
   "id": "5169d567",
   "metadata": {
    "lines_to_next_cell": 2
   },
   "outputs": [],
   "source": []
  },
  {
   "cell_type": "markdown",
   "id": "e1b3a36f",
   "metadata": {
    "lines_to_next_cell": 2
   },
   "source": [
    "Calculate number of hours exceeding a given threshold using workshift data for spatial plot"
   ]
  },
  {
   "cell_type": "code",
   "execution_count": null,
   "id": "129e7f61",
   "metadata": {
    "lines_to_next_cell": 2
   },
   "outputs": [],
   "source": [
    "# using WBGT\n",
    "non_nan_counts_wbgt_day = np.sum(~np.isnan(wbgt_f_day), axis=(0, 1))"
   ]
  },
  {
   "cell_type": "code",
   "execution_count": null,
   "id": "bce04f4e",
   "metadata": {},
   "outputs": [],
   "source": [
    "#yellow\n",
    "wbgt_f_hour_exceed_yellow_day = np.sum((wbgt_f_day >= 80) & (wbgt_f_day < 85), axis=(0, 1))\n",
    "wbgt_f_hour_exceed_yellow_restm_perhour_day = wbgt_f_hour_exceed_yellow_day*15/non_nan_counts_wbgt_day  # 15 minutes every hour\n",
    "#orange\n",
    "wbgt_f_hour_exceed_orange_day = np.sum((wbgt_f_day >= 85) & (wbgt_f_day < 88), axis=(0, 1))\n",
    "wbgt_f_hour_exceed_orange_restm_perhour_day = wbgt_f_hour_exceed_orange_day*30/non_nan_counts_wbgt_day  # 30 minutes every hour\n",
    "#red\n",
    "wbgt_f_hour_exceed_red_day = np.sum((wbgt_f_day >= 88) & (wbgt_f_day < 90), axis=(0, 1))\n",
    "wbgt_f_hour_exceed_red_restm_perhour_day = wbgt_f_hour_exceed_red_day*40/non_nan_counts_wbgt_day  # 40 minutes every hour\n",
    "#pink\n",
    "wbgt_f_hour_exceed_pink_day = np.sum(wbgt_f_day >= 90, axis=(0, 1))\n",
    "wbgt_f_hour_exceed_pink_restm_perhour_day = wbgt_f_hour_exceed_pink_day*45/non_nan_counts_wbgt_day  # 45 minutes every hour"
   ]
  },
  {
   "cell_type": "code",
   "execution_count": null,
   "id": "cec157d3",
   "metadata": {},
   "outputs": [],
   "source": [
    "# total rest minutes from all above to be plotted\n",
    "wbgt_f_hour_exceed_total_restm_perhour_day = wbgt_f_hour_exceed_yellow_restm_perhour_day + wbgt_f_hour_exceed_orange_restm_perhour_day + wbgt_f_hour_exceed_red_restm_perhour_day + wbgt_f_hour_exceed_pink_restm_perhour_day;"
   ]
  },
  {
   "cell_type": "code",
   "execution_count": null,
   "id": "c1331aaf",
   "metadata": {},
   "outputs": [],
   "source": [
    "# using DBT\n",
    "non_nan_counts_t2_day = np.sum(~np.isnan(t2_f_day), axis=(0, 1))\n",
    "t2_f_hour_exceed_95_day = np.sum(t2_f_day > 95, axis=(0, 1))\n",
    "t2_f_hour_exceed_95_restm_perhour_day = t2_f_hour_exceed_95_day*5/non_nan_counts_t2_day  # 5 minutes every hour"
   ]
  },
  {
   "cell_type": "code",
   "execution_count": null,
   "id": "8bab62b7",
   "metadata": {
    "lines_to_next_cell": 2
   },
   "outputs": [],
   "source": [
    "# using HI\n",
    "non_nan_counts_HI_day = np.sum(~np.isnan(HI_f_all_day), axis=(0, 1))\n",
    "HI_f_hour_exceed_80_day = np.sum(HI_f_all_day > 80, axis=(0, 1))\n",
    "HI_f_hour_exceed_80_restm_perhour_day = HI_f_hour_exceed_80_day*7.5/non_nan_counts_HI_day  # 7.5 minutes every hour"
   ]
  },
  {
   "cell_type": "code",
   "execution_count": null,
   "id": "57cffbd2",
   "metadata": {},
   "outputs": [],
   "source": [
    "non_nan_counts_wbgt_day"
   ]
  },
  {
   "cell_type": "code",
   "execution_count": null,
   "id": "1c468920",
   "metadata": {},
   "outputs": [],
   "source": [
    "import numpy as np\n",
    "import matplotlib.pyplot as plt\n",
    "import cartopy.crs as ccrs"
   ]
  },
  {
   "cell_type": "code",
   "execution_count": null,
   "id": "76283669",
   "metadata": {},
   "outputs": [],
   "source": [
    "plt.rcParams.update({'font.size': 12})"
   ]
  },
  {
   "cell_type": "code",
   "execution_count": null,
   "id": "f486d677",
   "metadata": {},
   "outputs": [],
   "source": [
    "levels = np.arange(0, 16, 3)  # used for colorbar tick ylabel"
   ]
  },
  {
   "cell_type": "code",
   "execution_count": null,
   "id": "308b446f",
   "metadata": {},
   "outputs": [],
   "source": [
    "fig, ((ax_1, ax_2), (ax_3, ax_4), (ax_5, ax_6)) = plt.subplots(\n",
    "    3, 2, figsize=(14, 20),\n",
    "    subplot_kw={'projection': ccrs.PlateCarree()},\n",
    "    gridspec_kw={'width_ratios': [1, 1], 'height_ratios': [1, 1, 1]}\n",
    ")\n",
    "plt.subplots_adjust(wspace=0.1, hspace=0.15)  # Adjust the width space between subplots"
   ]
  },
  {
   "cell_type": "code",
   "execution_count": null,
   "id": "1d33032d",
   "metadata": {},
   "outputs": [],
   "source": [
    "# First subplot - grid labels on the left and top side only\n",
    "ax_1.set_extent([-116.7, -115.1, 32.55, 34.05])\n",
    "mesh_1 = ax_1.pcolormesh(lon, lat, wbgt_f_hour_exceed_yellow_restm_perhour, cmap='YlOrRd', vmin=0, vmax=15)\n",
    "counties.plot(ax=ax_1, edgecolor='k', linewidth=0.5, facecolor='none')\n",
    "salton.plot(ax=ax_1, linewidth=1.5, color='black', facecolor='skyblue')\n",
    "gl_1 = ax_1.gridlines(xlocs=np.arange(-116.7, -115.1, 0.4), ylocs=np.arange(32.55, 34.05, 0.4), linewidth=0.5, draw_labels=True)\n",
    "gl_1.right_labels = False\n",
    "gl_1.bottom_labels = False\n",
    "gl_1.top_labels = False"
   ]
  },
  {
   "cell_type": "code",
   "execution_count": null,
   "id": "f29d4724",
   "metadata": {},
   "outputs": [],
   "source": [
    "ax_1.set_title(r'(a) $WBGT_{\\mathrm{all\\_hours}}$')"
   ]
  },
  {
   "cell_type": "code",
   "execution_count": null,
   "id": "2e5c64eb",
   "metadata": {},
   "outputs": [],
   "source": [
    "# Second subplot - grid labels on the top only\n",
    "ax_2.set_extent([-116.7, -115.1, 32.55, 34.05])\n",
    "mesh_2 = ax_2.pcolormesh(lon, lat, wbgt_f_hour_exceed_total_restm_perhour_day, cmap='YlOrRd', vmin=0, vmax=15)\n",
    "counties.plot(ax=ax_2, edgecolor='k', linewidth=0.5, facecolor='none')\n",
    "salton.plot(ax=ax_2, linewidth=1.5, color='black', facecolor='skyblue')\n",
    "gl_2 = ax_2.gridlines(xlocs=np.arange(-116.7, -115.1, 0.4), ylocs=np.arange(32.55, 34.05, 0.4), linewidth=0.5, draw_labels=True)\n",
    "gl_2.left_labels = False\n",
    "gl_2.right_labels = False\n",
    "gl_2.bottom_labels = False\n",
    "gl_2.top_labels = False"
   ]
  },
  {
   "cell_type": "code",
   "execution_count": null,
   "id": "8e6c46dd",
   "metadata": {},
   "outputs": [],
   "source": [
    "ax_2.set_title(r'(b) $WBGT_{\\mathrm{work\\_hours}}$')"
   ]
  },
  {
   "cell_type": "code",
   "execution_count": null,
   "id": "65654c7e",
   "metadata": {},
   "outputs": [],
   "source": [
    "# Third subplot - grid labels on the left only\n",
    "ax_3.set_extent([-116.7, -115.1, 32.55, 34.05])\n",
    "mesh_3 = ax_3.pcolormesh(lon, lat, t2_f_hour_exceed_95_restm_perhour, cmap='YlOrRd', vmin=0, vmax=15)\n",
    "counties.plot(ax=ax_3, edgecolor='k', linewidth=0.5, facecolor='none')\n",
    "salton.plot(ax=ax_3, linewidth=1.5, color='black', facecolor='skyblue')\n",
    "gl_3 = ax_3.gridlines(xlocs=np.arange(-116.7, -115.1, 0.4), ylocs=np.arange(32.55, 34.05, 0.4), linewidth=0.5, draw_labels=True)\n",
    "gl_3.top_labels = False\n",
    "gl_3.right_labels = False\n",
    "gl_3.bottom_labels = False\n",
    "ax_3.set_title(r'(c) $DBT_{\\mathrm{all\\_hours}}$', fontsize=14)"
   ]
  },
  {
   "cell_type": "code",
   "execution_count": null,
   "id": "d25b930d",
   "metadata": {},
   "outputs": [],
   "source": [
    "# Fourth subplot - no grid labels\n",
    "ax_4.set_extent([-116.7, -115.1, 32.55, 34.05])\n",
    "mesh_4 = ax_4.pcolormesh(lon, lat, t2_f_hour_exceed_95_restm_perhour_day, cmap='YlOrRd', vmin=0, vmax=15)\n",
    "counties.plot(ax=ax_4, edgecolor='k', linewidth=0.5, facecolor='none')\n",
    "salton.plot(ax=ax_4, linewidth=1.5, color='black', facecolor='skyblue')\n",
    "gl_4 = ax_4.gridlines(xlocs=np.arange(-116.7, -115.1, 0.4), ylocs=np.arange(32.55, 34.05, 0.4), linewidth=0.5, draw_labels=True)\n",
    "gl_4.left_labels = False\n",
    "gl_4.right_labels = False\n",
    "gl_4.top_labels = False\n",
    "gl_4.bottom_labels = False\n",
    "ax_4.set_title(r'(d) $DBT_{\\mathrm{work\\_hours}}$', fontsize=14)"
   ]
  },
  {
   "cell_type": "code",
   "execution_count": null,
   "id": "8471018a",
   "metadata": {},
   "outputs": [],
   "source": [
    "# Fifth subplot - grid labels on the left and bottom side only\n",
    "ax_5.set_extent([-116.7, -115.1, 32.55, 34.05])\n",
    "mesh_5 = ax_5.pcolormesh(lon, lat, HI_f_hour_exceed_80_restm_perhour, cmap='YlOrRd', vmin=0, vmax=15)\n",
    "counties.plot(ax=ax_5, edgecolor='k', linewidth=0.5, facecolor='none')\n",
    "salton.plot(ax=ax_5, linewidth=1.5, color='black', facecolor='skyblue')\n",
    "gl_5 = ax_5.gridlines(xlocs=np.arange(-116.7, -115.1, 0.4), ylocs=np.arange(32.55, 34.05, 0.4), linewidth=0.5, draw_labels=True)\n",
    "gl_5.top_labels = False\n",
    "gl_5.right_labels = False"
   ]
  },
  {
   "cell_type": "code",
   "execution_count": null,
   "id": "615b8f93",
   "metadata": {},
   "outputs": [],
   "source": [
    "ax_5.set_title(r'(e) $HI_{\\mathrm{all\\_hours}}$')"
   ]
  },
  {
   "cell_type": "code",
   "execution_count": null,
   "id": "e9d5f27a",
   "metadata": {},
   "outputs": [],
   "source": [
    "# Sixth subplot - grid labels on the bottom side only\n",
    "ax_6.set_extent([-116.7, -115.1, 32.55, 34.05])\n",
    "mesh_6 = ax_6.pcolormesh(lon, lat, HI_f_hour_exceed_80_restm_perhour_day, cmap='YlOrRd', vmin=0, vmax=15)\n",
    "counties.plot(ax=ax_6, edgecolor='k', linewidth=0.5, facecolor='none')\n",
    "salton.plot(ax=ax_6, linewidth=1.5, color='black', facecolor='skyblue')\n",
    "gl_6 = ax_6.gridlines(xlocs=np.arange(-116.7, -115.1, 0.4), ylocs=np.arange(32.55, 34.05, 0.4), linewidth=0.5, draw_labels=True)\n",
    "gl_6.left_labels = False\n",
    "gl_6.right_labels = False\n",
    "gl_6.top_labels = False"
   ]
  },
  {
   "cell_type": "code",
   "execution_count": null,
   "id": "d3599d27",
   "metadata": {},
   "outputs": [],
   "source": [
    "ax_6.set_title(r'(f) $HI_{\\mathrm{work\\_hours}}$')"
   ]
  },
  {
   "cell_type": "code",
   "execution_count": null,
   "id": "de9f2aa9",
   "metadata": {
    "lines_to_next_cell": 2
   },
   "outputs": [],
   "source": [
    "# Add a single colorbar for all subplots\n",
    "cbar = fig.colorbar(mesh_1, ax=[ax_1, ax_2, ax_3, ax_4, ax_5, ax_6], orientation='vertical', shrink=0.5, pad=0.06, ticks=levels)\n",
    "cbar.set_label('Rest-minutes per hour', fontsize=16, labelpad=10)  # Change 14 to your desired label font size"
   ]
  },
  {
   "cell_type": "code",
   "execution_count": null,
   "id": "088e78c9",
   "metadata": {
    "lines_to_next_cell": 2
   },
   "outputs": [],
   "source": [
    "plt.savefig('spatial_rest_minutes_hi_dbt_wbgt.png', bbox_inches='tight', dpi=300)"
   ]
  },
  {
   "cell_type": "code",
   "execution_count": null,
   "id": "cf770089",
   "metadata": {},
   "outputs": [],
   "source": [
    "np.nanmean(HI_f_hour_exceed_80_restm_perhour.flatten())"
   ]
  },
  {
   "cell_type": "markdown",
   "id": "c192c77e",
   "metadata": {},
   "source": [
    "plot timeseries"
   ]
  },
  {
   "cell_type": "code",
   "execution_count": null,
   "id": "91901d33",
   "metadata": {},
   "outputs": [],
   "source": [
    "t2_f_iv_av_diurnal = np.reshape(t2_f_iv_av, (24, 214), order='F');\n",
    "t2_f_iv_av_diurnal_max = np.max(t2_f_iv_av_diurnal, axis=0);"
   ]
  },
  {
   "cell_type": "code",
   "execution_count": null,
   "id": "0b03ff9b",
   "metadata": {},
   "outputs": [],
   "source": [
    "wbgt_f_iv_av_diurnal = np.reshape(wbgt_f_iv_av, (24, 214), order='F');\n",
    "wbgt_f_iv_av_diurnal_max = np.max(wbgt_f_iv_av_diurnal, axis=0);"
   ]
  },
  {
   "cell_type": "code",
   "execution_count": null,
   "id": "5e3cf90b",
   "metadata": {},
   "outputs": [],
   "source": [
    "HI_f_iv_av_diurnal = np.reshape(HI_f_iv_av, (24, 214), order='F');\n",
    "HI_f_iv_av_diurnal_max = np.max(HI_f_iv_av_diurnal, axis=0);"
   ]
  },
  {
   "cell_type": "code",
   "execution_count": null,
   "id": "d959b1bb",
   "metadata": {},
   "outputs": [],
   "source": []
  },
  {
   "cell_type": "markdown",
   "id": "e904a348",
   "metadata": {},
   "source": [
    "plot comparision figures for all stations"
   ]
  },
  {
   "cell_type": "code",
   "execution_count": null,
   "id": "71b9e7e8",
   "metadata": {},
   "outputs": [],
   "source": [
    "import matplotlib.pyplot as plt\n",
    "import numpy as np"
   ]
  },
  {
   "cell_type": "code",
   "execution_count": null,
   "id": "3baebb2d",
   "metadata": {},
   "outputs": [],
   "source": [
    "plt.rcParams.update({'font.size': 12})"
   ]
  },
  {
   "cell_type": "markdown",
   "id": "c273a3cc",
   "metadata": {},
   "source": [
    "start_date = '2020-04-01'\n",
    "end_date = '2020-10-31'"
   ]
  },
  {
   "cell_type": "code",
   "execution_count": null,
   "id": "502276f7",
   "metadata": {},
   "outputs": [],
   "source": [
    "num_steps = 214\n",
    "start_date = np.datetime64('2020-04-01')\n",
    "end_date = np.datetime64('2020-10-31')\n",
    "step_size = np.timedelta64(1, 'D')"
   ]
  },
  {
   "cell_type": "code",
   "execution_count": null,
   "id": "bea30461",
   "metadata": {
    "lines_to_next_cell": 2
   },
   "outputs": [],
   "source": [
    "dates = np.arange(start_date, end_date + step_size, step_size)"
   ]
  },
  {
   "cell_type": "code",
   "execution_count": null,
   "id": "0ec985a4",
   "metadata": {
    "lines_to_next_cell": 2
   },
   "outputs": [],
   "source": [
    "fig, ax1 = plt.subplots(1, 1, figsize=(16, 4))\n",
    "plt.subplots_adjust(hspace=0.5)"
   ]
  },
  {
   "cell_type": "code",
   "execution_count": null,
   "id": "98af7b2f",
   "metadata": {},
   "outputs": [],
   "source": [
    "ax1.plot(dates[:], np.ma.masked_invalid(t2_f_iv_av_diurnal_max), label='DBT', marker='', linestyle='-', color='blue')\n",
    "ax1.plot(dates[:], np.ma.masked_invalid(wbgt_f_iv_av_diurnal_max), label='WBGT', marker='', linestyle='-', color='red')\n",
    "ax1.plot(dates[:], np.ma.masked_invalid(HI_f_iv_av_diurnal_max), label='HI', marker='', linestyle='-', color='#8B008B')"
   ]
  },
  {
   "cell_type": "code",
   "execution_count": null,
   "id": "36414c65",
   "metadata": {},
   "outputs": [],
   "source": [
    "ax1.axhline(y=95, color='blue', linestyle='--', label='DBT threshold (95\\u00b0F)', linewidth=0.8)\n",
    "ax1.axhline(y=80, color='red', linestyle='--', label='WBGT/HI threshold (80\\u00b0F)', linewidth=0.8)"
   ]
  },
  {
   "cell_type": "code",
   "execution_count": null,
   "id": "7b2845ad",
   "metadata": {},
   "outputs": [],
   "source": [
    "ax1.set_title(r'Daily maximum heat indices averaged within IV crop fields')\n",
    "ax1.set_xlabel('Date')\n",
    "ax1.set_xlim([start_date, end_date])\n",
    "ax1.tick_params(axis='x', labelrotation=0)\n",
    "ax1.set_ylabel('(\\u00b0F)')\n",
    "#ax1.tick_params(axis='both', labelsize=8)\n",
    "ax1.grid(True)\n",
    "ax1.legend(loc='lower center', fontsize=8)"
   ]
  },
  {
   "cell_type": "code",
   "execution_count": null,
   "id": "288f83af",
   "metadata": {
    "lines_to_next_cell": 2
   },
   "outputs": [],
   "source": [
    "plt.savefig('timeseries_hi_dbt_wbgt.png', bbox_inches='tight', dpi=400)"
   ]
  },
  {
   "cell_type": "markdown",
   "id": "b338be8e",
   "metadata": {},
   "source": [
    "plot no. of exceeding hours per day"
   ]
  },
  {
   "cell_type": "markdown",
   "id": "0dc797b6",
   "metadata": {},
   "source": [
    "plot timeseries"
   ]
  },
  {
   "cell_type": "markdown",
   "id": "166b164b",
   "metadata": {},
   "source": [
    "plot comparision figures for all stations"
   ]
  },
  {
   "cell_type": "code",
   "execution_count": null,
   "id": "09b8deeb",
   "metadata": {},
   "outputs": [],
   "source": [
    "import matplotlib.pyplot as plt\n",
    "import numpy as np"
   ]
  },
  {
   "cell_type": "code",
   "execution_count": null,
   "id": "9bdfda8d",
   "metadata": {},
   "outputs": [],
   "source": [
    "plt.rcParams.update({'font.size': 14})"
   ]
  },
  {
   "cell_type": "code",
   "execution_count": null,
   "id": "b2439ed4",
   "metadata": {},
   "outputs": [],
   "source": [
    "# Select rows between April 1 and April 30, 2020\n",
    "start_date = '2020-04-01'\n",
    "end_date = '2020-10-31'"
   ]
  },
  {
   "cell_type": "code",
   "execution_count": null,
   "id": "a07605d3",
   "metadata": {},
   "outputs": [],
   "source": [
    "num_steps = 214\n",
    "start_date = np.datetime64('2020-04-01')\n",
    "end_date = np.datetime64('2020-10-31')\n",
    "step_size = np.timedelta64(1, 'D')"
   ]
  },
  {
   "cell_type": "code",
   "execution_count": null,
   "id": "087c7a90",
   "metadata": {
    "lines_to_next_cell": 2
   },
   "outputs": [],
   "source": [
    "dates = np.arange(start_date, end_date + step_size, step_size)"
   ]
  },
  {
   "cell_type": "code",
   "execution_count": null,
   "id": "5119b9c1",
   "metadata": {
    "lines_to_next_cell": 2
   },
   "outputs": [],
   "source": [
    "fig, ax1 = plt.subplots(1, 1, figsize=(16, 4))\n",
    "plt.subplots_adjust(hspace=0.5)"
   ]
  },
  {
   "cell_type": "code",
   "execution_count": null,
   "id": "47b54ee7",
   "metadata": {},
   "outputs": [],
   "source": [
    "ax1.plot(dates[:], gt_95_t2_iv_all, label='DBT > 95\\u00b0F', marker='', linestyle='-', color='blue')\n",
    "ax1.plot(dates[:], gt_80_wbgt_iv_all, label='WBGT >80 \\u00b0F', marker='', linestyle='-', color='red')\n",
    "ax1.plot(dates[:], gt_80_HI_iv_all, label='HI > 80\\u00b0F', marker='', linestyle='-', color='#8B008B')"
   ]
  },
  {
   "cell_type": "code",
   "execution_count": null,
   "id": "318b1081",
   "metadata": {},
   "outputs": [],
   "source": [
    "ax1.set_title('Total no. of grid point-hours exceeding heat index thresholds within IV Crop fields')\n",
    "ax1.set_xlabel('Date')\n",
    "ax1.set_xlim([start_date, end_date])\n",
    "ax1.tick_params(axis='x', labelrotation=0)\n",
    "ax1.set_ylabel('Grid point-hours')\n",
    "ax1.grid(True)\n",
    "ax1.legend(loc='upper left', fontsize=12)"
   ]
  },
  {
   "cell_type": "code",
   "execution_count": null,
   "id": "6d960f7e",
   "metadata": {
    "lines_to_next_cell": 2
   },
   "outputs": [],
   "source": [
    "plt.savefig('timeseries_exceeding_hours_daily_iv.png', bbox_inches='tight', dpi=400)"
   ]
  },
  {
   "cell_type": "markdown",
   "id": "277cb569",
   "metadata": {},
   "source": [
    "plot humidity time series for humidity average daily maximum"
   ]
  },
  {
   "cell_type": "code",
   "execution_count": null,
   "id": "258b8645",
   "metadata": {
    "lines_to_next_cell": 2
   },
   "outputs": [],
   "source": [
    "# plot timeseries\n",
    "rh_iv_av = np.nanmean(np.nanmean(rh_pct_iv, axis=2), axis=1)\n",
    "rh_iv_av_diurnal = np.reshape(rh_iv_av, (24, 214), order='F');\n",
    "rh_iv_av_diurnal_max = np.max(rh_iv_av_diurnal, axis=0);"
   ]
  },
  {
   "cell_type": "markdown",
   "id": "7d9ee347",
   "metadata": {},
   "source": [
    "plot no. of exceeding hours per day"
   ]
  },
  {
   "cell_type": "markdown",
   "id": "b05ad40d",
   "metadata": {},
   "source": [
    "plot timeseries"
   ]
  },
  {
   "cell_type": "markdown",
   "id": "b4939ee2",
   "metadata": {},
   "source": [
    "plot comparision figures for all stations"
   ]
  },
  {
   "cell_type": "code",
   "execution_count": null,
   "id": "596fe372",
   "metadata": {},
   "outputs": [],
   "source": [
    "import matplotlib.pyplot as plt\n",
    "import numpy as np"
   ]
  },
  {
   "cell_type": "code",
   "execution_count": null,
   "id": "ba4c9393",
   "metadata": {},
   "outputs": [],
   "source": [
    "plt.rcParams.update({'font.size': 12})"
   ]
  },
  {
   "cell_type": "code",
   "execution_count": null,
   "id": "fdfb1557",
   "metadata": {},
   "outputs": [],
   "source": [
    "num_steps = 214\n",
    "start_date = np.datetime64('2020-04-01')\n",
    "end_date = np.datetime64('2020-10-31')\n",
    "step_size = np.timedelta64(1, 'D')"
   ]
  },
  {
   "cell_type": "code",
   "execution_count": null,
   "id": "ce597224",
   "metadata": {
    "lines_to_next_cell": 2
   },
   "outputs": [],
   "source": [
    "dates = np.arange(start_date, end_date + step_size, step_size)"
   ]
  },
  {
   "cell_type": "code",
   "execution_count": null,
   "id": "5c539fdd",
   "metadata": {
    "lines_to_next_cell": 2
   },
   "outputs": [],
   "source": [
    "fig, ax1 = plt.subplots(1, 1, figsize=(16, 4))\n",
    "plt.subplots_adjust(hspace=0.5)"
   ]
  },
  {
   "cell_type": "code",
   "execution_count": null,
   "id": "bc6b2ba4",
   "metadata": {},
   "outputs": [],
   "source": [
    "ax1.plot(dates[:], np.ma.masked_invalid(rh_iv_av_diurnal_max), marker='', linestyle='-', color='blue')"
   ]
  },
  {
   "cell_type": "code",
   "execution_count": null,
   "id": "92580af3",
   "metadata": {},
   "outputs": [],
   "source": [
    "ax1.set_title('Daily maximum relative humidity averaged within IV crop fields')\n",
    "ax1.set_xlabel('Date')\n",
    "ax1.set_xlim([start_date, end_date])\n",
    "ax1.tick_params(axis='x', labelrotation=0)\n",
    "ax1.set_ylabel('RH (%)')\n",
    "ax1.grid(True)\n",
    "#ax1.legend(loc='lower center', fontsize=12)"
   ]
  },
  {
   "cell_type": "code",
   "execution_count": null,
   "id": "7f1ef94f",
   "metadata": {},
   "outputs": [],
   "source": [
    "plt.savefig('timeseries_rh_daily_iv_rh.png', bbox_inches='tight', dpi=400)"
   ]
  },
  {
   "cell_type": "code",
   "execution_count": null,
   "id": "d5a45a84",
   "metadata": {},
   "outputs": [],
   "source": []
  },
  {
   "cell_type": "code",
   "execution_count": null,
   "id": "2e65223e",
   "metadata": {},
   "outputs": [],
   "source": []
  },
  {
   "cell_type": "code",
   "execution_count": null,
   "id": "1d52a58b",
   "metadata": {},
   "outputs": [],
   "source": [
    "# End the timer\n",
    "end_time = time.time()"
   ]
  },
  {
   "cell_type": "code",
   "execution_count": null,
   "id": "4549bfdf",
   "metadata": {},
   "outputs": [],
   "source": [
    "# Calculate the total time taken in minutes\n",
    "execution_time_minutes = (end_time - start_time) / 60"
   ]
  },
  {
   "cell_type": "code",
   "execution_count": null,
   "id": "f76682fe",
   "metadata": {},
   "outputs": [],
   "source": [
    "# Display the time taken\n",
    "print(f\"Total execution time: {execution_time_minutes:.2f} minutes\")"
   ]
  }
 ],
 "metadata": {
  "jupytext": {
   "cell_metadata_filter": "-all",
   "main_language": "python",
   "notebook_metadata_filter": "-all"
  }
 },
 "nbformat": 4,
 "nbformat_minor": 5
}
